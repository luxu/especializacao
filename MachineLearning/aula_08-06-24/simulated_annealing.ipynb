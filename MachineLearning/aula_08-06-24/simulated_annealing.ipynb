{
 "cells": [
  {
   "cell_type": "code",
   "execution_count": 1,
   "metadata": {},
   "outputs": [],
   "source": [
    "import math\n",
    "import random"
   ]
  },
  {
   "cell_type": "code",
   "execution_count": 2,
   "metadata": {},
   "outputs": [],
   "source": [
    "def funcao(x):\n",
    "    return 2**(-2*((x-0.1)/0.9)**2)*(math.sin(5*math.pi*x)**6)"
   ]
  },
  {
   "cell_type": "code",
   "execution_count": 3,
   "metadata": {},
   "outputs": [],
   "source": [
    "def perturbar(temp):\n",
    "  return random.uniform(-temp,temp)"
   ]
  },
  {
   "cell_type": "code",
   "execution_count": 4,
   "metadata": {},
   "outputs": [
    {
     "name": "stdout",
     "output_type": "stream",
     "text": [
      "Valor de x..:  0.09999820814030541\n",
      "valor de y..:  0.999999997617834\n"
     ]
    }
   ],
   "source": [
    "x = random.uniform(0,1)\n",
    "apt = funcao(x)\n",
    "maior_apt = -1000\n",
    "temp = 0.5\n",
    "it = 5000\n",
    "taxa_decaimento = temp/it\n",
    "for i in range(it):\n",
    "  x2 = perturbar(temp)\n",
    "  apt = funcao(x2)\n",
    "  if apt > maior_apt:\n",
    "    maior_apt = apt\n",
    "    x = x2\n",
    "\n",
    "  temp = temp - taxa_decaimento\n",
    "print('Valor de x..: ', x)\n",
    "print('valor de y..: ',maior_apt)"
   ]
  }
 ],
 "metadata": {
  "kernelspec": {
   "display_name": "Python 3",
   "language": "python",
   "name": "python3"
  },
  "language_info": {
   "codemirror_mode": {
    "name": "ipython",
    "version": 3
   },
   "file_extension": ".py",
   "mimetype": "text/x-python",
   "name": "python",
   "nbconvert_exporter": "python",
   "pygments_lexer": "ipython3",
   "version": "3.11.9"
  }
 },
 "nbformat": 4,
 "nbformat_minor": 2
}
