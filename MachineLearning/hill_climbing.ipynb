{
 "cells": [
  {
   "cell_type": "code",
   "execution_count": 1,
   "metadata": {},
   "outputs": [],
   "source": [
    "import math\n",
    "import random"
   ]
  },
  {
   "cell_type": "code",
   "execution_count": 3,
   "metadata": {},
   "outputs": [],
   "source": [
    "def funcao(x):\n",
    "    return 2**(-2*((x-0.1)/0.9)**2)*(math.sin(5*math.pi*x)**6)"
   ]
  },
  {
   "cell_type": "code",
   "execution_count": 4,
   "metadata": {},
   "outputs": [],
   "source": [
    "def perturbar():\n",
    "  return random.uniform(-0.1,0.2)"
   ]
  },
  {
   "cell_type": "code",
   "execution_count": 5,
   "metadata": {},
   "outputs": [
    {
     "name": "stdout",
     "output_type": "stream",
     "text": [
      "Valor de x..:  0.09996814272759175\n",
      "valor de y..:  0.999999247024195\n"
     ]
    }
   ],
   "source": [
    "x = random.uniform(0,1)\n",
    "apt = funcao(x)\n",
    "maior_apt = -1000\n",
    "for i in range(5000):\n",
    "  x2 = perturbar()\n",
    "  apt = funcao(x2)\n",
    "  if apt > maior_apt:\n",
    "    maior_apt = apt\n",
    "    x = x2\n",
    "print('Valor de x..: ', x)\n",
    "print('valor de y..: ',maior_apt)"
   ]
  }
 ],
 "metadata": {
  "kernelspec": {
   "display_name": "Python 3",
   "language": "python",
   "name": "python3"
  },
  "language_info": {
   "codemirror_mode": {
    "name": "ipython",
    "version": 3
   },
   "file_extension": ".py",
   "mimetype": "text/x-python",
   "name": "python",
   "nbconvert_exporter": "python",
   "pygments_lexer": "ipython3",
   "version": "3.10.12"
  }
 },
 "nbformat": 4,
 "nbformat_minor": 2
}
