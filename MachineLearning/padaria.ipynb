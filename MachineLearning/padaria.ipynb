{
 "cells": [
  {
   "cell_type": "code",
   "execution_count": 1,
   "metadata": {},
   "outputs": [],
   "source": [
    "import pandas as pd"
   ]
  },
  {
   "cell_type": "code",
   "execution_count": 2,
   "metadata": {},
   "outputs": [
    {
     "name": "stdout",
     "output_type": "stream",
     "text": [
      "  INGREDIENTES;DISPONIVEL;COOKIES;BROWNIES\n",
      "0                             F;1750;10;12\n",
      "1                                 R;55;3;5\n",
      "2                                 O;30;8;8\n",
      "3                             S;1000;12;17\n"
     ]
    }
   ],
   "source": [
    "cookies = 'R$ 3,50'\n",
    "brownies = 'R$ 5,20'\n",
    "\n",
    "# ler csv\n",
    "df = pd.read_csv('padaria.csv')\n",
    "print(df)\n",
    "\n",
    "# Quantos cookies e brownies preciso vender para ter um faturamento\n",
    "# bom\n",
    "\n",
    "# F(x) = c * "
   ]
  }
 ],
 "metadata": {
  "kernelspec": {
   "display_name": "Python 3",
   "language": "python",
   "name": "python3"
  },
  "language_info": {
   "codemirror_mode": {
    "name": "ipython",
    "version": 3
   },
   "file_extension": ".py",
   "mimetype": "text/x-python",
   "name": "python",
   "nbconvert_exporter": "python",
   "pygments_lexer": "ipython3",
   "version": "3.10.12"
  }
 },
 "nbformat": 4,
 "nbformat_minor": 2
}
