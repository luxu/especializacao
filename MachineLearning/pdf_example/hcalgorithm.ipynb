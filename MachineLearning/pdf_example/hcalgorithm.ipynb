{
  "nbformat": 4,
  "nbformat_minor": 0,
  "metadata": {
    "colab": {
      "provenance": []
    },
    "kernelspec": {
      "name": "python3",
      "display_name": "Python 3"
    },
    "language_info": {
      "name": "python"
    }
  },
  "cells": [
    {
      "cell_type": "code",
      "execution_count": 2,
      "metadata": {
        "id": "xxqZG8dG7pUf"
      },
      "outputs": [],
      "source": [
        "import random\n",
        "import math"
      ]
    },
    {
      "cell_type": "code",
      "source": [
        "random.uniform(-0.1,0.1)"
      ],
      "metadata": {
        "colab": {
          "base_uri": "https://localhost:8080/"
        },
        "id": "ViY88dd_MWFR",
        "outputId": "7724bfcc-5d1a-49fd-8466-a628a04918d2"
      },
      "execution_count": 23,
      "outputs": [
        {
          "output_type": "execute_result",
          "data": {
            "text/plain": [
              "-0.00037232246268059654"
            ]
          },
          "metadata": {},
          "execution_count": 23
        }
      ]
    },
    {
      "cell_type": "code",
      "source": [
        "def perturbar(x):\n",
        "  return x + random.uniform(-0.1,0.1)"
      ],
      "metadata": {
        "id": "6XIDXdwyMRtr"
      },
      "execution_count": 25,
      "outputs": []
    },
    {
      "cell_type": "code",
      "source": [
        "def funcao(x):\n",
        "  y = 2 ** (- 2 * ((x - 0.1) / 0.9) ** 2) * (math.sin(5 * math.pi * x)) ** 6\n",
        "  return y"
      ],
      "metadata": {
        "id": "ita6wAiTMWNp"
      },
      "execution_count": 26,
      "outputs": []
    },
    {
      "cell_type": "code",
      "source": [
        "\n",
        "x = random.uniform(0,1)\n",
        "apt = funcao(x)\n",
        "maior_apt = -1000\n",
        "\n",
        "for i in range(0,5000):\n",
        "\n",
        "  x2 = perturbar(x)\n",
        "  apt = funcao(x2)\n",
        "\n",
        "\n",
        "  if apt > maior_apt:\n",
        "    maior_apt = apt\n",
        "    x = x2\n",
        "\n",
        "print('valor de x:' + str(x))\n",
        "print('valor de y:' + str(maior_apt))\n"
      ],
      "metadata": {
        "colab": {
          "base_uri": "https://localhost:8080/"
        },
        "id": "QRxmZ1jGMWQB",
        "outputId": "057d6a2a-5b58-4312-a782-1ec1fad66bd2"
      },
      "execution_count": 38,
      "outputs": [
        {
          "output_type": "stream",
          "name": "stdout",
          "text": [
            "valor de x:0.09999476288458342\n",
            "valor de y:0.9999999796507565\n"
          ]
        }
      ]
    },
    {
      "cell_type": "code",
      "source": [
        "x"
      ],
      "metadata": {
        "colab": {
          "base_uri": "https://localhost:8080/"
        },
        "id": "YMokkOXaMWSK",
        "outputId": "8fb27b21-5d9e-4e09-b1dd-9c27f2a52f30"
      },
      "execution_count": 14,
      "outputs": [
        {
          "output_type": "execute_result",
          "data": {
            "text/plain": [
              "0.1469487149111851"
            ]
          },
          "metadata": {},
          "execution_count": 14
        }
      ]
    },
    {
      "cell_type": "code",
      "source": [],
      "metadata": {
        "id": "up2WF4sQMWUK"
      },
      "execution_count": null,
      "outputs": []
    }
  ]
}